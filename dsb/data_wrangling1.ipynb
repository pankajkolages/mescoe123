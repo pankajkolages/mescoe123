{
 "cells": [
  {
   "cell_type": "code",
   "execution_count": null,
   "id": "48c581c5-a508-4495-8108-353bbd9e6772",
   "metadata": {},
   "outputs": [],
   "source": [
    "Data Wrangling, I\n",
    "Perform the following operations using Python on any open source dataset (e.g., data.csv)\n",
    "1. Import all the required Python Libraries.\n",
    "2. Locate an open source data from the web (e.g. https://www.kaggle.com). Provide a clear\n",
    "description of the data and its source (i.e., URL of the web site).\n",
    "3. Load the Dataset into pandas data frame.\n",
    "4. Data Preprocessing: check for missing values in the data using pandas insult(), describe()\n",
    "function to get some initial statistics. Provide variable descriptions. Types of variables\n",
    "etc. Check the dimensions of the data frame.\n",
    "5. Data Formatting and Data Normalization: Summarize the types of variables by checking\n",
    "the data types (i.e., character, numeric, integer, factor, and logical) of the variables in the\n",
    "data set. If variables are not in the correct data type, apply proper type conversions.\n",
    "6. Turn categorical variables into quantitative variables in Python.\n",
    "In addition to the codes and outputs, explain every operation that you do in the above steps and\n",
    "explain everything that you do to import/read/scrape the data set."
   ]
  },
  {
   "cell_type": "code",
   "execution_count": 5,
   "id": "72f45195-e135-4512-b5ef-a41de3efc172",
   "metadata": {},
   "outputs": [],
   "source": [
    "import pandas as pd\n",
    "import numpy as np\n",
    "import matplotlib.pyplot as plt\n",
    "import seaborn as sns"
   ]
  },
  {
   "cell_type": "code",
   "execution_count": 12,
   "id": "9d0afc0c-86ef-4521-9a42-d463fc8bc936",
   "metadata": {},
   "outputs": [],
   "source": [
    "df= pd.read_csv('C:/Users/jyoti/Documents/Engineering Third Year/DSBDAL/datasets/Titanic-Dataset.csv')"
   ]
  },
  {
   "cell_type": "code",
   "execution_count": 13,
   "id": "a71a791f-2b59-4b29-84d0-f49c20fed771",
   "metadata": {},
   "outputs": [
    {
     "name": "stdout",
     "output_type": "stream",
     "text": [
      "   PassengerId  Survived  Pclass  \\\n",
      "0            1         0       3   \n",
      "1            2         1       1   \n",
      "2            3         1       3   \n",
      "3            4         1       1   \n",
      "4            5         0       3   \n",
      "\n",
      "                                                Name     Sex   Age  SibSp  \\\n",
      "0                            Braund, Mr. Owen Harris    male  22.0      1   \n",
      "1  Cumings, Mrs. John Bradley (Florence Briggs Th...  female  38.0      1   \n",
      "2                             Heikkinen, Miss. Laina  female  26.0      0   \n",
      "3       Futrelle, Mrs. Jacques Heath (Lily May Peel)  female  35.0      1   \n",
      "4                           Allen, Mr. William Henry    male  35.0      0   \n",
      "\n",
      "   Parch            Ticket     Fare Cabin Embarked  \n",
      "0      0         A/5 21171   7.2500   NaN        S  \n",
      "1      0          PC 17599  71.2833   C85        C  \n",
      "2      0  STON/O2. 3101282   7.9250   NaN        S  \n",
      "3      0            113803  53.1000  C123        S  \n",
      "4      0            373450   8.0500   NaN        S  \n"
     ]
    }
   ],
   "source": [
    "print(df.head())"
   ]
  },
  {
   "cell_type": "code",
   "execution_count": 14,
   "id": "2efb253b-d996-43d2-902e-610b1c52a584",
   "metadata": {},
   "outputs": [
    {
     "name": "stdout",
     "output_type": "stream",
     "text": [
      "Missing Values in each column:\n",
      "PassengerId      0\n",
      "Survived         0\n",
      "Pclass           0\n",
      "Name             0\n",
      "Sex              0\n",
      "Age            177\n",
      "SibSp            0\n",
      "Parch            0\n",
      "Ticket           0\n",
      "Fare             0\n",
      "Cabin          687\n",
      "Embarked         2\n",
      "dtype: int64\n"
     ]
    }
   ],
   "source": [
    "missing_values= df.isnull().sum()\n",
    "print(f\"Missing Values in each column:\\n{missing_values}\")"
   ]
  },
  {
   "cell_type": "code",
   "execution_count": 17,
   "id": "e2e65e15-fbf5-489a-8b71-101b24ec0387",
   "metadata": {},
   "outputs": [
    {
     "name": "stdout",
     "output_type": "stream",
     "text": [
      "Summary Statistics:\n",
      "       PassengerId    Survived      Pclass         Age       SibSp  \\\n",
      "count   891.000000  891.000000  891.000000  714.000000  891.000000   \n",
      "mean    446.000000    0.383838    2.308642   29.699118    0.523008   \n",
      "std     257.353842    0.486592    0.836071   14.526497    1.102743   \n",
      "min       1.000000    0.000000    1.000000    0.420000    0.000000   \n",
      "25%     223.500000    0.000000    2.000000   20.125000    0.000000   \n",
      "50%     446.000000    0.000000    3.000000   28.000000    0.000000   \n",
      "75%     668.500000    1.000000    3.000000   38.000000    1.000000   \n",
      "max     891.000000    1.000000    3.000000   80.000000    8.000000   \n",
      "\n",
      "            Parch        Fare  \n",
      "count  891.000000  891.000000  \n",
      "mean     0.381594   32.204208  \n",
      "std      0.806057   49.693429  \n",
      "min      0.000000    0.000000  \n",
      "25%      0.000000    7.910400  \n",
      "50%      0.000000   14.454200  \n",
      "75%      0.000000   31.000000  \n",
      "max      6.000000  512.329200  \n"
     ]
    }
   ],
   "source": [
    "#Get a summary of Data set\n",
    "summary_stats=df.describe()\n",
    "print(f\"Summary Statistics:\\n{summary_stats}\")"
   ]
  },
  {
   "cell_type": "code",
   "execution_count": 22,
   "id": "b1e011e2-825d-46d3-a574-b1b21590b4d6",
   "metadata": {},
   "outputs": [
    {
     "name": "stdout",
     "output_type": "stream",
     "text": [
      "Data types of each column:\n",
      "PassengerId      int64\n",
      "Survived         int64\n",
      "Pclass           int64\n",
      "Name            object\n",
      "Sex             object\n",
      "Age            float64\n",
      "SibSp            int64\n",
      "Parch            int64\n",
      "Ticket          object\n",
      "Fare           float64\n",
      "Cabin           object\n",
      "Embarked        object\n",
      "dtype: object\n"
     ]
    }
   ],
   "source": [
    "data_types= df.dtypes\n",
    "print(f\"Data types of each column:\\n{data_types}\")"
   ]
  },
  {
   "cell_type": "code",
   "execution_count": 23,
   "id": "7386d68c-509f-471a-a42d-e31aa5620432",
   "metadata": {},
   "outputs": [
    {
     "name": "stdout",
     "output_type": "stream",
     "text": [
      "The dataset has 891 rows and 12 columns.\n"
     ]
    }
   ],
   "source": [
    "shape= df.shape\n",
    "print(f\"The dataset has {shape[0]} rows and {shape[1]} columns.\")"
   ]
  },
  {
   "cell_type": "code",
   "execution_count": 24,
   "id": "b8db7167-7fd2-4822-aeee-56675dd79b94",
   "metadata": {},
   "outputs": [
    {
     "name": "stdout",
     "output_type": "stream",
     "text": [
      "<class 'pandas.core.frame.DataFrame'>\n",
      "RangeIndex: 891 entries, 0 to 890\n",
      "Data columns (total 12 columns):\n",
      " #   Column       Non-Null Count  Dtype  \n",
      "---  ------       --------------  -----  \n",
      " 0   PassengerId  891 non-null    int64  \n",
      " 1   Survived     891 non-null    int64  \n",
      " 2   Pclass       891 non-null    int64  \n",
      " 3   Name         891 non-null    object \n",
      " 4   Sex          891 non-null    object \n",
      " 5   Age          714 non-null    float64\n",
      " 6   SibSp        891 non-null    int64  \n",
      " 7   Parch        891 non-null    int64  \n",
      " 8   Ticket       891 non-null    object \n",
      " 9   Fare         891 non-null    float64\n",
      " 10  Cabin        204 non-null    object \n",
      " 11  Embarked     889 non-null    object \n",
      "dtypes: float64(2), int64(5), object(5)\n",
      "memory usage: 83.7+ KB\n",
      "Dataset Info:\n",
      "None\n"
     ]
    }
   ],
   "source": [
    "df_info= df.info()\n",
    "print(f\"Dataset Info:\\n{df_info}\")"
   ]
  },
  {
   "cell_type": "code",
   "execution_count": 26,
   "id": "4c738642-9a68-458d-b23b-86a65f53da6a",
   "metadata": {},
   "outputs": [],
   "source": [
    "df['Sex'] = df['Sex'].astype('category')\n",
    "df['Survived'] = df['Survived'].astype('category')"
   ]
  },
  {
   "cell_type": "code",
   "execution_count": 29,
   "id": "23ef4e42-7e64-42dc-a5d0-31067a7f5d9d",
   "metadata": {},
   "outputs": [
    {
     "name": "stdout",
     "output_type": "stream",
     "text": [
      "        Age      Fare\n",
      "0  0.271174  0.014151\n",
      "1  0.472229  0.139136\n",
      "2  0.321438  0.015469\n",
      "3  0.434531  0.103644\n",
      "4  0.434531  0.015713\n"
     ]
    }
   ],
   "source": [
    "from sklearn.preprocessing import MinMaxScaler\n",
    "scaler= MinMaxScaler()\n",
    "df[['Age','Fare']] = scaler.fit_transform(df[['Age', 'Fare']])\n",
    "\n",
    "print(df[['Age', 'Fare']].head())"
   ]
  },
  {
   "cell_type": "code",
   "execution_count": 30,
   "id": "9d6367a4-7c08-4be4-b618-b67d5a67c1eb",
   "metadata": {},
   "outputs": [
    {
     "name": "stdout",
     "output_type": "stream",
     "text": [
      "   PassengerId Survived  Pclass  \\\n",
      "0            1        0       3   \n",
      "1            2        1       1   \n",
      "2            3        1       3   \n",
      "3            4        1       1   \n",
      "4            5        0       3   \n",
      "\n",
      "                                                Name       Age  SibSp  Parch  \\\n",
      "0                            Braund, Mr. Owen Harris  0.271174      1      0   \n",
      "1  Cumings, Mrs. John Bradley (Florence Briggs Th...  0.472229      1      0   \n",
      "2                             Heikkinen, Miss. Laina  0.321438      0      0   \n",
      "3       Futrelle, Mrs. Jacques Heath (Lily May Peel)  0.434531      1      0   \n",
      "4                           Allen, Mr. William Henry  0.434531      0      0   \n",
      "\n",
      "             Ticket      Fare Cabin  Sex_male  Embarked_Q  Embarked_S  \n",
      "0         A/5 21171  0.014151   NaN      True       False        True  \n",
      "1          PC 17599  0.139136   C85     False       False       False  \n",
      "2  STON/O2. 3101282  0.015469   NaN     False       False        True  \n",
      "3            113803  0.103644  C123     False       False        True  \n",
      "4            373450  0.015713   NaN      True       False        True  \n"
     ]
    }
   ],
   "source": [
    "df_encoded= pd.get_dummies(df, columns=['Sex', 'Embarked'], drop_first= True)\n",
    "print(df_encoded.head())"
   ]
  },
  {
   "cell_type": "code",
   "execution_count": null,
   "id": "d59455f0-5049-4bdc-8837-2177e4ee9366",
   "metadata": {},
   "outputs": [],
   "source": []
  }
 ],
 "metadata": {
  "kernelspec": {
   "display_name": "Python 3 (ipykernel)",
   "language": "python",
   "name": "python3"
  },
  "language_info": {
   "codemirror_mode": {
    "name": "ipython",
    "version": 3
   },
   "file_extension": ".py",
   "mimetype": "text/x-python",
   "name": "python",
   "nbconvert_exporter": "python",
   "pygments_lexer": "ipython3",
   "version": "3.13.3"
  }
 },
 "nbformat": 4,
 "nbformat_minor": 5
}
