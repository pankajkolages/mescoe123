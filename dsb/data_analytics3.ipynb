{
 "cells": [
  {
   "cell_type": "code",
   "execution_count": null,
   "id": "ab5eedf9-771e-408c-b1e0-c800a43df948",
   "metadata": {},
   "outputs": [],
   "source": [
    "Data Analytics III\n",
    "1. Implement Simple Naïve Bayes classification algorithm using Python/R on iris.csv\n",
    "dataset.\n",
    "2. Compute Confusion matrix to find TP, FP, TN, FN, Accuracy, Error rate, Precision,\n",
    "Recall on the given dataset"
   ]
  },
  {
   "cell_type": "code",
   "execution_count": 18,
   "id": "bcf0fdc0-7ca9-4f15-8d12-b34622653374",
   "metadata": {},
   "outputs": [
    {
     "name": "stdout",
     "output_type": "stream",
     "text": [
      "   Id  SepalLengthCm  SepalWidthCm  PetalLengthCm  PetalWidthCm      Species\n",
      "0   1            5.1           3.5            1.4           0.2  Iris-setosa\n",
      "1   2            4.9           3.0            1.4           0.2  Iris-setosa\n",
      "2   3            4.7           3.2            1.3           0.2  Iris-setosa\n",
      "3   4            4.6           3.1            1.5           0.2  Iris-setosa\n",
      "4   5            5.0           3.6            1.4           0.2  Iris-setosa\n"
     ]
    }
   ],
   "source": [
    "import pandas as pd\n",
    "from sklearn.model_selection import train_test_split\n",
    "from sklearn.naive_bayes import GaussianNB\n",
    "from sklearn.metrics import confusion_matrix, accuracy_score, precision_score, recall_score, f1_score\n",
    "\n",
    "df = pd.read_csv('C:/Users/jyoti/Documents/Engineering Third Year/DSBDAL/datasets/iris.csv')\n",
    "\n",
    "print(df.head())"
   ]
  },
  {
   "cell_type": "code",
   "execution_count": 19,
   "id": "8c435116-6b1c-40f4-82c8-903ed5b5994b",
   "metadata": {},
   "outputs": [
    {
     "name": "stdout",
     "output_type": "stream",
     "text": [
      "Transformed training features:\n",
      "[[-1.21030717 -1.47393679  1.22037928 -1.5639872  -1.30948358]\n",
      " [-1.37240188 -0.13307079  3.02001693 -1.27728011 -1.04292204]\n",
      " [-0.21458252  1.08589829  0.09560575  0.38562104  0.28988568]\n",
      " [-1.46502743 -1.23014297  0.77046987 -1.21993869 -1.30948358]\n",
      " [-0.74717943 -1.7177306   0.32056046 -1.39196294 -1.30948358]]\n"
     ]
    }
   ],
   "source": [
    "from sklearn.preprocessing import StandardScaler\n",
    "\n",
    "x = df.drop('Species', axis =1)\n",
    "y = df['Species']\n",
    "\n",
    "x_train, x_test, y_train, y_test = train_test_split(x, y, test_size = 0.2, random_state=42)\n",
    "\n",
    "scaler = StandardScaler() \n",
    "x_train = scaler.fit_transform(x_train) \n",
    "x_test = scaler.transform(x_test)\n",
    "\n",
    "print(f\"Transformed training features:\\n{x_train[:5]}\")"
   ]
  },
  {
   "cell_type": "code",
   "execution_count": 20,
   "id": "96d2c6e5-9968-482a-868d-636be8b951e5",
   "metadata": {},
   "outputs": [
    {
     "name": "stdout",
     "output_type": "stream",
     "text": [
      "Predicted values: ['Iris-versicolor' 'Iris-setosa' 'Iris-virginica' 'Iris-versicolor'\n",
      " 'Iris-versicolor']\n"
     ]
    }
   ],
   "source": [
    "model = GaussianNB()\n",
    "model.fit(x_train, y_train)\n",
    "\n",
    "y_pred = model.predict(x_test)\n",
    "\n",
    "print(f\"Predicted values: {y_pred[:5]}\")"
   ]
  },
  {
   "cell_type": "code",
   "execution_count": 32,
   "id": "b08147cd-3992-4699-8323-29aa9f44dd37",
   "metadata": {},
   "outputs": [
    {
     "name": "stdout",
     "output_type": "stream",
     "text": [
      "\n",
      "Classes: ['Iris-setosa' 'Iris-versicolor' 'Iris-virginica']\n",
      "\n",
      "Confusion Matrix{cm}\n"
     ]
    },
    {
     "data": {
      "image/png": "[encoded data removed]",
      "text/plain": [
       "<Figure size 800x600 with 2 Axes>"
      ]
     },
     "metadata": {},
     "output_type": "display_data"
    },
    {
     "name": "stdout",
     "output_type": "stream",
     "text": [
      "Confusion Matrix:\n",
      "[[10  0  0]\n",
      " [ 0  9  0]\n",
      " [ 0  0 11]]\n",
      "True Positive:\n",
      "11\n",
      "True Negative:\n",
      "19\n",
      "False Positive:\n",
      "0\n",
      "False Negative:\n",
      "0\n",
      "Accuracy:\n",
      "1.0\n",
      "Error Rate:\n",
      "0.0\n",
      "Precision:\n",
      "1.0\n",
      "Recall:\n",
      "1.0\n",
      "f1:\n",
      "1.0\n"
     ]
    }
   ],
   "source": [
    "import matplotlib.pyplot as plt\n",
    "import seaborn as sns\n",
    "cm = confusion_matrix(y_test, y_pred)\n",
    "\n",
    "classes = model.classes_\n",
    "print(\"\\nClasses:\",classes)\n",
    "print(\"\\nConfusion Matrix{cm}\")\n",
    "\n",
    "plt.figure(figsize=(8,6))\n",
    "sns.heatmap(cm, annot=True, fmt=\"d\", cmap=\"Blues\", \n",
    "            xticklabels=model.classes_, \n",
    "            yticklabels=model.classes_)\n",
    "plt.title('Confusion Matrix')\n",
    "plt.xlabel('Predicted Label')\n",
    "plt.ylabel('True Label')\n",
    "plt.show()\n",
    "\n",
    "for i, class_name in enumerate(classes):\n",
    "    TP = cm[i, i]\n",
    "    FP = cm[:,i].sum() - TP\n",
    "    FN = cm[i,:].sum() - TP\n",
    "    TN = cm.sum() - (TP + FP +FN)\n",
    "\n",
    "accuracy = accuracy_score(y_test, y_pred)\n",
    "error_rate = 1 - accuracy\n",
    "precision = precision_score(y_test, y_pred, average= 'macro')\n",
    "recall = recall_score(y_test, y_pred, average= 'macro')\n",
    "f1 = f1_score(y_test, y_pred, average= 'macro')\n",
    "\n",
    "print(f\"Confusion Matrix:\\n{cm}\")\n",
    "print(f\"True Positive:\\n{TP}\")\n",
    "print(f\"True Negative:\\n{TN}\")\n",
    "print(f\"False Positive:\\n{FP}\")\n",
    "print(f\"False Negative:\\n{FN}\")\n",
    "print(f\"Accuracy:\\n{accuracy}\")\n",
    "print(f\"Error Rate:\\n{error_rate}\")\n",
    "print(f\"Precision:\\n{precision}\")\n",
    "print(f\"Recall:\\n{recall}\")\n",
    "print(f\"f1:\\n{f1}\")"
   ]
  },
  {
   "cell_type": "code",
   "execution_count": null,
   "id": "ba3091c1-adfe-47bd-bb73-c7470cfbab26",
   "metadata": {},
   "outputs": [],
   "source": []
  }
 ],
 "metadata": {
  "kernelspec": {
   "display_name": "Python 3 (ipykernel)",
   "language": "python",
   "name": "python3"
  },
  "language_info": {
   "codemirror_mode": {
    "name": "ipython",
    "version": 3
   },
   "file_extension": ".py",
   "mimetype": "text/x-python",
   "name": "python",
   "nbconvert_exporter": "python",
   "pygments_lexer": "ipython3",
   "version": "3.13.3"
  }
 },
 "nbformat": 4,
 "nbformat_minor": 5
}
