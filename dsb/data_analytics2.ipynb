{
 "cells": [
  {
   "cell_type": "code",
   "execution_count": null,
   "id": "17a41ebe-1393-4478-a6f1-d0f176a96545",
   "metadata": {},
   "outputs": [],
   "source": [
    "Data Analytics II\n",
    "1. Implement logistic regression using Python/R to perform classification on\n",
    "Social_Network_Ads.csv dataset.\n",
    "2. Compute Confusion matrix to find TP, FP, TN, FN, Accuracy, Error rate, Precision,\n",
    "Recall on the given dataset."
   ]
  },
  {
   "cell_type": "code",
   "execution_count": 3,
   "id": "8f380871-b355-45ec-bf1d-ea19fea83e5e",
   "metadata": {},
   "outputs": [],
   "source": [
    "import pandas as pd"
   ]
  },
  {
   "cell_type": "code",
   "execution_count": 4,
   "id": "af7ba2a3-0df4-4dcc-9c69-1b9122219b80",
   "metadata": {},
   "outputs": [],
   "source": [
    "df= pd.read_csv('C:/Users/jyoti/Documents/Engineering Third Year/DSBDAL/datasets/Social_Network_Ads.csv')"
   ]
  },
  {
   "cell_type": "code",
   "execution_count": 5,
   "id": "2df41457-c02b-43be-b62f-fbb31ff5a98c",
   "metadata": {},
   "outputs": [
    {
     "name": "stdout",
     "output_type": "stream",
     "text": [
      "    User ID  Gender  Age  EstimatedSalary  Purchased\n",
      "0  15624510    Male   19            19000          0\n",
      "1  15810944    Male   35            20000          0\n",
      "2  15668575  Female   26            43000          0\n",
      "3  15603246  Female   27            57000          0\n",
      "4  15804002    Male   19            76000          0\n"
     ]
    }
   ],
   "source": [
    "print(df.head())"
   ]
  },
  {
   "cell_type": "code",
   "execution_count": 6,
   "id": "fee29f24-4325-4fdf-b0de-b2e7c8e79e4d",
   "metadata": {},
   "outputs": [
    {
     "name": "stdout",
     "output_type": "stream",
     "text": [
      "Preprocessed features (x):\n",
      "[[-1.         -1.06675246 -0.38634438]\n",
      " [ 1.          0.79753468 -1.22993871]\n",
      " [-1.          0.11069205  1.853544  ]\n",
      " [-1.          0.60129393 -0.90995465]\n",
      " [-1.          1.87685881 -1.28811763]]\n"
     ]
    }
   ],
   "source": [
    "from sklearn.model_selection import train_test_split\n",
    "from sklearn.preprocessing import LabelEncoder\n",
    "from sklearn.preprocessing import StandardScaler\n",
    "\n",
    "le = LabelEncoder()\n",
    "df['Gender'] = le.fit_transform(df['Gender'])\n",
    "\n",
    "x= df[['Gender', 'Age', 'EstimatedSalary']]\n",
    "y= df['Purchased']\n",
    "\n",
    "x_train, x_test, y_train, y_test = train_test_split(x, y, test_size= 0.2, random_state=42)\n",
    "\n",
    "scaler = StandardScaler()\n",
    "x_train = scaler.fit_transform(x_train)\n",
    "x_test = scaler.transform(x_test)\n",
    "\n",
    "print(f\"Preprocessed features (x):\\n{x_train[:5]}\")"
   ]
  },
  {
   "cell_type": "code",
   "execution_count": 7,
   "id": "46063115-f922-4f4e-984f-5b8fde727155",
   "metadata": {},
   "outputs": [
    {
     "name": "stdout",
     "output_type": "stream",
     "text": [
      "Predicted values:\n",
      "[0 1 0 1 0 0 1 0 0 0 0 1 0 0 0 0 1 1 0 1 0 0 0 1 0 1 1 0 1 0 0 0 1 0 1 0 0\n",
      " 0 0 0 0 0 0 0 0 1 0 0 1 0 0 1 0 0 0 0 1 0 0 0 0 0 1 0 0 0 1 1 0 0 1 0 0 0\n",
      " 0 0 1 1 0 0]\n"
     ]
    }
   ],
   "source": [
    "from sklearn.linear_model import LogisticRegression\n",
    "\n",
    "model=LogisticRegression(random_state=42)\n",
    "model.fit(x_train,y_train)\n",
    "\n",
    "y_pred = model.predict(x_test)\n",
    "print(f\"Predicted values:\\n{y_pred}\")"
   ]
  },
  {
   "cell_type": "code",
   "execution_count": 13,
   "id": "42a8cb0a-832b-4eff-9368-205c9e5e5e4f",
   "metadata": {},
   "outputs": [
    {
     "name": "stdout",
     "output_type": "stream",
     "text": [
      "\n",
      "Confusion Matrix{cm}\n"
     ]
    },
    {
     "data": {
      "image/png": "[encoded data removed]",
      "text/plain": [
       "<Figure size 800x600 with 2 Axes>"
      ]
     },
     "metadata": {},
     "output_type": "display_data"
    },
    {
     "name": "stdout",
     "output_type": "stream",
     "text": [
      "Confusion Matrix:\n",
      "[[50  2]\n",
      " [ 7 21]]\n",
      "True Positive (TP): 21\n",
      "False Positive (FP): 2\n",
      "True Negative (TN): 50\n",
      "False Negative (FN): 7\n",
      "Accuracy: 0.8875\n",
      "Error Rate: 0.11250000000000004\n",
      "Precision: 0.9130434782608695\n",
      "Recall: 0.75\n",
      "F1 Score: 0.8235294117647058\n"
     ]
    }
   ],
   "source": [
    "from sklearn.metrics import confusion_matrix, accuracy_score, precision_score, recall_score, f1_score\n",
    "import seaborn as sns\n",
    "import matplotlib.pyplot as plt\n",
    "\n",
    "cm = confusion_matrix(y_test, y_pred)\n",
    "print(\"\\nConfusion Matrix{cm}\")\n",
    "\n",
    "plt.figure(figsize=(8,6))\n",
    "sns.heatmap(cm, annot=True, fmt='d', cmap = \"Blues\",\n",
    "            xticklabels=model.classes_,\n",
    "            yticklabels=model.classes_)\n",
    "plt.title('Confusion Matix')\n",
    "plt.xlabel('Predicted Label')\n",
    "plt.ylabel('True Label')\n",
    "plt.show()\n",
    "\n",
    "TN, FP, FN, TP = cm.ravel()\n",
    "\n",
    "accuracy = accuracy_score(y_test, y_pred)\n",
    "error_rate= 1- accuracy\n",
    "precision = precision_score(y_test,y_pred)\n",
    "recall = recall_score(y_test,y_pred)\n",
    "f1 = f1_score(y_test, y_pred)\n",
    "\n",
    "print(f\"Confusion Matrix:\\n{cm}\")\n",
    "print(f\"True Positive (TP): {TP}\")\n",
    "print(f\"False Positive (FP): {FP}\")\n",
    "print(f\"True Negative (TN): {TN}\")\n",
    "print(f\"False Negative (FN): {FN}\")\n",
    "print(f\"Accuracy: {accuracy}\")\n",
    "print(f\"Error Rate: {error_rate}\")\n",
    "print(f\"Precision: {precision}\")\n",
    "print(f\"Recall: {recall}\")\n",
    "print(f\"F1 Score: {f1}\")"
   ]
  },
  {
   "cell_type": "code",
   "execution_count": null,
   "id": "0176519a-4f76-41c4-84c0-0bfc246d52c1",
   "metadata": {},
   "outputs": [],
   "source": []
  }
 ],
 "metadata": {
  "kernelspec": {
   "display_name": "Python 3 (ipykernel)",
   "language": "python",
   "name": "python3"
  },
  "language_info": {
   "codemirror_mode": {
    "name": "ipython",
    "version": 3
   },
   "file_extension": ".py",
   "mimetype": "text/x-python",
   "name": "python",
   "nbconvert_exporter": "python",
   "pygments_lexer": "ipython3",
   "version": "3.13.3"
  }
 },
 "nbformat": 4,
 "nbformat_minor": 5
}
