{
 "cells": [
  {
   "cell_type": "code",
   "execution_count": null,
   "id": "6c0df8b1-eabb-4f92-8462-f166e4da6156",
   "metadata": {},
   "outputs": [],
   "source": [
    "Descriptive Statistics - Measures of Central Tendency and variability\n",
    "Perform the following operations on any open source dataset (e.g., data.csv)\n",
    "1. Provide summary statistics (mean, median, minimum, maximum, standard deviation) for\n",
    "a dataset (age, income etc.) with numeric variables grouped by one of the qualitative\n",
    "(categorical) variable. For example, if your categorical variable is age groups and\n",
    "quantitative variable is income, then provide summary statistics of income grouped by\n",
    "the age groups. Create a list that contains a numeric value for each response to the\n",
    "categorical variable.\n",
    "2. Write a Python program to display some basic statistical details like percentile, mean,\n",
    "standard deviation etc. of the species of ‘Iris-setosa’, ‘Iris-versicolor’ and ‘Irisversicolor’ of iris.csv dataset.\n",
    "Provide the codes with outputs and explain everything that you do in this step."
   ]
  },
  {
   "cell_type": "code",
   "execution_count": 1,
   "id": "3ede92ab-197f-4ba6-b8f9-fc2ecd91f83e",
   "metadata": {},
   "outputs": [],
   "source": [
    "import pandas as pd"
   ]
  },
  {
   "cell_type": "code",
   "execution_count": 5,
   "id": "ac765d54-2d5a-4398-a828-66053f771b70",
   "metadata": {},
   "outputs": [],
   "source": [
    "df = pd.read_csv('C:/Users/jyoti/Documents/Engineering Third Year/DSBDAL/datasets/Titanic-Dataset.csv')"
   ]
  },
  {
   "cell_type": "code",
   "execution_count": 6,
   "id": "afc5b751-bde7-49c1-b645-e046d724cd48",
   "metadata": {},
   "outputs": [
    {
     "data": {
      "text/html": [
       "<div>\n",
       "<style scoped>\n",
       "    .dataframe tbody tr th:only-of-type {\n",
       "        vertical-align: middle;\n",
       "    }\n",
       "\n",
       "    .dataframe tbody tr th {\n",
       "        vertical-align: top;\n",
       "    }\n",
       "\n",
       "    .dataframe thead th {\n",
       "        text-align: right;\n",
       "    }\n",
       "</style>\n",
       "<table border=\"1\" class=\"dataframe\">\n",
       "  <thead>\n",
       "    <tr style=\"text-align: right;\">\n",
       "      <th></th>\n",
       "      <th>PassengerId</th>\n",
       "      <th>Survived</th>\n",
       "      <th>Pclass</th>\n",
       "      <th>Name</th>\n",
       "      <th>Sex</th>\n",
       "      <th>Age</th>\n",
       "      <th>SibSp</th>\n",
       "      <th>Parch</th>\n",
       "      <th>Ticket</th>\n",
       "      <th>Fare</th>\n",
       "      <th>Cabin</th>\n",
       "      <th>Embarked</th>\n",
       "    </tr>\n",
       "  </thead>\n",
       "  <tbody>\n",
       "    <tr>\n",
       "      <th>0</th>\n",
       "      <td>1</td>\n",
       "      <td>0</td>\n",
       "      <td>3</td>\n",
       "      <td>Braund, Mr. Owen Harris</td>\n",
       "      <td>male</td>\n",
       "      <td>22.0</td>\n",
       "      <td>1</td>\n",
       "      <td>0</td>\n",
       "      <td>A/5 21171</td>\n",
       "      <td>7.2500</td>\n",
       "      <td>NaN</td>\n",
       "      <td>S</td>\n",
       "    </tr>\n",
       "    <tr>\n",
       "      <th>1</th>\n",
       "      <td>2</td>\n",
       "      <td>1</td>\n",
       "      <td>1</td>\n",
       "      <td>Cumings, Mrs. John Bradley (Florence Briggs Th...</td>\n",
       "      <td>female</td>\n",
       "      <td>38.0</td>\n",
       "      <td>1</td>\n",
       "      <td>0</td>\n",
       "      <td>PC 17599</td>\n",
       "      <td>71.2833</td>\n",
       "      <td>C85</td>\n",
       "      <td>C</td>\n",
       "    </tr>\n",
       "    <tr>\n",
       "      <th>2</th>\n",
       "      <td>3</td>\n",
       "      <td>1</td>\n",
       "      <td>3</td>\n",
       "      <td>Heikkinen, Miss. Laina</td>\n",
       "      <td>female</td>\n",
       "      <td>26.0</td>\n",
       "      <td>0</td>\n",
       "      <td>0</td>\n",
       "      <td>STON/O2. 3101282</td>\n",
       "      <td>7.9250</td>\n",
       "      <td>NaN</td>\n",
       "      <td>S</td>\n",
       "    </tr>\n",
       "    <tr>\n",
       "      <th>3</th>\n",
       "      <td>4</td>\n",
       "      <td>1</td>\n",
       "      <td>1</td>\n",
       "      <td>Futrelle, Mrs. Jacques Heath (Lily May Peel)</td>\n",
       "      <td>female</td>\n",
       "      <td>35.0</td>\n",
       "      <td>1</td>\n",
       "      <td>0</td>\n",
       "      <td>113803</td>\n",
       "      <td>53.1000</td>\n",
       "      <td>C123</td>\n",
       "      <td>S</td>\n",
       "    </tr>\n",
       "    <tr>\n",
       "      <th>4</th>\n",
       "      <td>5</td>\n",
       "      <td>0</td>\n",
       "      <td>3</td>\n",
       "      <td>Allen, Mr. William Henry</td>\n",
       "      <td>male</td>\n",
       "      <td>35.0</td>\n",
       "      <td>0</td>\n",
       "      <td>0</td>\n",
       "      <td>373450</td>\n",
       "      <td>8.0500</td>\n",
       "      <td>NaN</td>\n",
       "      <td>S</td>\n",
       "    </tr>\n",
       "  </tbody>\n",
       "</table>\n",
       "</div>"
      ],
      "text/plain": [
       "   PassengerId  Survived  Pclass  \\\n",
       "0            1         0       3   \n",
       "1            2         1       1   \n",
       "2            3         1       3   \n",
       "3            4         1       1   \n",
       "4            5         0       3   \n",
       "\n",
       "                                                Name     Sex   Age  SibSp  \\\n",
       "0                            Braund, Mr. Owen Harris    male  22.0      1   \n",
       "1  Cumings, Mrs. John Bradley (Florence Briggs Th...  female  38.0      1   \n",
       "2                             Heikkinen, Miss. Laina  female  26.0      0   \n",
       "3       Futrelle, Mrs. Jacques Heath (Lily May Peel)  female  35.0      1   \n",
       "4                           Allen, Mr. William Henry    male  35.0      0   \n",
       "\n",
       "   Parch            Ticket     Fare Cabin Embarked  \n",
       "0      0         A/5 21171   7.2500   NaN        S  \n",
       "1      0          PC 17599  71.2833   C85        C  \n",
       "2      0  STON/O2. 3101282   7.9250   NaN        S  \n",
       "3      0            113803  53.1000  C123        S  \n",
       "4      0            373450   8.0500   NaN        S  "
      ]
     },
     "execution_count": 6,
     "metadata": {},
     "output_type": "execute_result"
    }
   ],
   "source": [
    "df.head()"
   ]
  },
  {
   "cell_type": "code",
   "execution_count": 8,
   "id": "ee239e03-1c1e-4cfb-b975-0af9cd25d1e7",
   "metadata": {},
   "outputs": [
    {
     "name": "stdout",
     "output_type": "stream",
     "text": [
      "\n",
      "Summary statitics for 'Age' and 'Fare' grouped by 'Sex':\n",
      "          Age                                                       Fare  \\\n",
      "        count       mean        std   min   25%   50%   75%   max  count   \n",
      "Sex                                                                        \n",
      "female  261.0  27.915709  14.110146  0.75  18.0  27.0  37.0  63.0  314.0   \n",
      "male    453.0  30.726645  14.678201  0.42  21.0  29.0  39.0  80.0  577.0   \n",
      "\n",
      "                                                                      \n",
      "             mean        std   min        25%   50%    75%       max  \n",
      "Sex                                                                   \n",
      "female  44.479818  57.997698  6.75  12.071875  23.0  55.00  512.3292  \n",
      "male    25.523893  43.138263  0.00   7.895800  10.5  26.55  512.3292  \n"
     ]
    }
   ],
   "source": [
    "summary_stats = df.groupby('Sex')[['Age', 'Fare']].describe()\n",
    "print(f\"\\nSummary statitics for 'Age' and 'Fare' grouped by 'Sex':\\n{summary_stats}\")"
   ]
  },
  {
   "cell_type": "code",
   "execution_count": 9,
   "id": "e146506d-7ddf-4a6f-8da6-46eb6ec74b62",
   "metadata": {},
   "outputs": [
    {
     "name": "stdout",
     "output_type": "stream",
     "text": [
      "\n",
      "Basic Statistics for Survivors:\n",
      "              Age        Fare\n",
      "count  290.000000  342.000000\n",
      "mean    28.343690   48.395408\n",
      "std     14.950952   66.596998\n",
      "min      0.420000    0.000000\n",
      "25%     19.000000   12.475000\n",
      "50%     28.000000   26.000000\n",
      "75%     36.000000   57.000000\n",
      "max     80.000000  512.329200\n",
      "\n",
      "Basic Statistics for non-survivors:\n",
      "              Age        Fare\n",
      "count  424.000000  549.000000\n",
      "mean    30.626179   22.117887\n",
      "std     14.172110   31.388207\n",
      "min      1.000000    0.000000\n",
      "25%     21.000000    7.854200\n",
      "50%     28.000000   10.500000\n",
      "75%     39.000000   26.000000\n",
      "max     74.000000  263.000000\n"
     ]
    }
   ],
   "source": [
    "survivors = df[df['Survived'] == 1]\n",
    "non_survivors = df[df['Survived'] == 0]\n",
    "\n",
    "survivors_stats = survivors [['Age', 'Fare']].describe()\n",
    "non_survivors_stats = non_survivors[['Age', 'Fare']].describe()\n",
    "\n",
    "print(f\"\\nBasic Statistics for Survivors:\\n{survivors_stats}\")\n",
    "print(f\"\\nBasic Statistics for non-survivors:\\n{non_survivors_stats}\")\n"
   ]
  },
  {
   "cell_type": "code",
   "execution_count": 3,
   "id": "d7e07dc1-c7a4-44c0-807a-97d10e492571",
   "metadata": {},
   "outputs": [],
   "source": [
    "import seaborn as sns\n",
    "iris = sns.load_dataset('iris')"
   ]
  },
  {
   "cell_type": "code",
   "execution_count": 4,
   "id": "90ee8c3c-361a-4e99-8108-6e531679551a",
   "metadata": {},
   "outputs": [
    {
     "name": "stdout",
     "output_type": "stream",
     "text": [
      "   sepal_length  sepal_width  petal_length  petal_width species\n",
      "0           5.1          3.5           1.4          0.2  setosa\n",
      "1           4.9          3.0           1.4          0.2  setosa\n",
      "2           4.7          3.2           1.3          0.2  setosa\n",
      "3           4.6          3.1           1.5          0.2  setosa\n",
      "4           5.0          3.6           1.4          0.2  setosa\n"
     ]
    }
   ],
   "source": [
    "print(iris.head())"
   ]
  },
  {
   "cell_type": "code",
   "execution_count": 6,
   "id": "8fca53fe-1dbb-4a85-98e7-e1eae4c3a90a",
   "metadata": {},
   "outputs": [
    {
     "name": "stdout",
     "output_type": "stream",
     "text": [
      "Summary Stats for 'Iris-setosa':\n",
      "       sepal_length  sepal_width  petal_length  petal_width\n",
      "count      50.00000    50.000000     50.000000    50.000000\n",
      "mean        5.00600     3.428000      1.462000     0.246000\n",
      "std         0.35249     0.379064      0.173664     0.105386\n",
      "min         4.30000     2.300000      1.000000     0.100000\n",
      "25%         4.80000     3.200000      1.400000     0.200000\n",
      "50%         5.00000     3.400000      1.500000     0.200000\n",
      "75%         5.20000     3.675000      1.575000     0.300000\n",
      "max         5.80000     4.400000      1.900000     0.600000\n",
      "Summary Stats for 'Iris-versicolor':\n",
      "       sepal_length  sepal_width  petal_length  petal_width\n",
      "count     50.000000    50.000000     50.000000    50.000000\n",
      "mean       5.936000     2.770000      4.260000     1.326000\n",
      "std        0.516171     0.313798      0.469911     0.197753\n",
      "min        4.900000     2.000000      3.000000     1.000000\n",
      "25%        5.600000     2.525000      4.000000     1.200000\n",
      "50%        5.900000     2.800000      4.350000     1.300000\n",
      "75%        6.300000     3.000000      4.600000     1.500000\n",
      "max        7.000000     3.400000      5.100000     1.800000\n",
      "Summary Stats for 'Iris-verginica':\n",
      "       sepal_length  sepal_width  petal_length  petal_width\n",
      "count      50.00000    50.000000     50.000000     50.00000\n",
      "mean        6.58800     2.974000      5.552000      2.02600\n",
      "std         0.63588     0.322497      0.551895      0.27465\n",
      "min         4.90000     2.200000      4.500000      1.40000\n",
      "25%         6.22500     2.800000      5.100000      1.80000\n",
      "50%         6.50000     3.000000      5.550000      2.00000\n",
      "75%         6.90000     3.175000      5.875000      2.30000\n",
      "max         7.90000     3.800000      6.900000      2.50000\n"
     ]
    }
   ],
   "source": [
    "setosa_stats = iris[iris['species'] == 'setosa'].describe()\n",
    "versicolor_stats = iris[iris['species'] == 'versicolor'].describe()\n",
    "virginica_stats = iris[iris['species'] == 'virginica'].describe()\n",
    "\n",
    "print(f\"Summary Stats for 'Iris-setosa':\\n{setosa_stats}\")\n",
    "print(f\"Summary Stats for 'Iris-versicolor':\\n{versicolor_stats}\")\n",
    "print(f\"Summary Stats for 'Iris-verginica':\\n{virginica_stats}\")"
   ]
  },
  {
   "cell_type": "code",
   "execution_count": null,
   "id": "b3765c06-e1af-43c2-9113-5db6480612ed",
   "metadata": {},
   "outputs": [],
   "source": []
  }
 ],
 "metadata": {
  "kernelspec": {
   "display_name": "Python 3 (ipykernel)",
   "language": "python",
   "name": "python3"
  },
  "language_info": {
   "codemirror_mode": {
    "name": "ipython",
    "version": 3
   },
   "file_extension": ".py",
   "mimetype": "text/x-python",
   "name": "python",
   "nbconvert_exporter": "python",
   "pygments_lexer": "ipython3",
   "version": "3.13.3"
  }
 },
 "nbformat": 4,
 "nbformat_minor": 5
}
