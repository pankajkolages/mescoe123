{
 "cells": [
  {
   "cell_type": "code",
   "execution_count": 6,
   "id": "929f2cc0-f87a-4c59-a1df-c8dd15f1c002",
   "metadata": {},
   "outputs": [],
   "source": [
    "# Install required libraries if not installed:\n",
    "# pip install nltk scikit-learn\n",
    "\n",
    "import nltk\n",
    "from nltk.tokenize import word_tokenize\n",
    "from nltk.corpus import stopwords\n",
    "from nltk.stem import PorterStemmer, WordNetLemmatizer\n",
    "from sklearn.feature_extraction.text import CountVectorizer, TfidfVectorizer\n"
   ]
  },
  {
   "cell_type": "code",
   "execution_count": 23,
   "id": "de512fd3-f470-4468-bff8-2fd5bb69b75e",
   "metadata": {},
   "outputs": [
    {
     "name": "stderr",
     "output_type": "stream",
     "text": [
      "[nltk_data] Downloading package punkt_tab to\n",
      "[nltk_data]     C:\\Users\\Dell\\AppData\\Roaming\\nltk_data...\n",
      "[nltk_data]   Package punkt_tab is already up-to-date!\n",
      "[nltk_data] Downloading package averaged_perceptron_tagger_eng to\n",
      "[nltk_data]     C:\\Users\\Dell\\AppData\\Roaming\\nltk_data...\n",
      "[nltk_data]   Package averaged_perceptron_tagger_eng is already up-to-\n",
      "[nltk_data]       date!\n",
      "[nltk_data] Downloading package stopwords to\n",
      "[nltk_data]     C:\\Users\\Dell\\AppData\\Roaming\\nltk_data...\n",
      "[nltk_data]   Package stopwords is already up-to-date!\n",
      "[nltk_data] Downloading package wordnet to\n",
      "[nltk_data]     C:\\Users\\Dell\\AppData\\Roaming\\nltk_data...\n",
      "[nltk_data]   Package wordnet is already up-to-date!\n"
     ]
    },
    {
     "data": {
      "text/plain": [
       "True"
      ]
     },
     "execution_count": 23,
     "metadata": {},
     "output_type": "execute_result"
    }
   ],
   "source": [
    "# Download required NLTK resources\n",
    "nltk.download('punkt_tab')\n",
    "nltk.download('averaged_perceptron_tagger_eng')\n",
    "\n",
    "nltk.download('stopwords')\n",
    "nltk.download('wordnet')\n",
    "\n",
    "# nltk.download('punkt')\n",
    "# nltk.download('averaged_perceptron_tagger')\n",
    "# nltk.download('stopwords')\n",
    "# nltk.download('wordnet')"
   ]
  },
  {
   "cell_type": "code",
   "execution_count": 15,
   "id": "9ccdd35f-a5c9-4716-a6b8-5748878d8883",
   "metadata": {},
   "outputs": [],
   "source": [
    "# Sample Document\n",
    "text = \"The quick brown fox jumps over the lazy dog.\""
   ]
  },
  {
   "cell_type": "code",
   "execution_count": 16,
   "id": "9c5455bf-2438-43d6-838a-4901b53ea503",
   "metadata": {},
   "outputs": [
    {
     "name": "stdout",
     "output_type": "stream",
     "text": [
      "\n",
      "Tokens:\n",
      "['The', 'quick', 'brown', 'fox', 'jumps', 'over', 'the', 'lazy', 'dog', '.']\n"
     ]
    }
   ],
   "source": [
    "# Step 1: Tokenization\n",
    "tokens = word_tokenize(text)\n",
    "print(\"\\nTokens:\")\n",
    "print(tokens)\n"
   ]
  },
  {
   "cell_type": "code",
   "execution_count": 17,
   "id": "80aa9e5d-4472-46f5-a4df-5da7e1511150",
   "metadata": {},
   "outputs": [
    {
     "name": "stdout",
     "output_type": "stream",
     "text": [
      "\n",
      "POS Tags:\n",
      "[('The', 'DT'), ('quick', 'JJ'), ('brown', 'NN'), ('fox', 'NN'), ('jumps', 'VBZ'), ('over', 'IN'), ('the', 'DT'), ('lazy', 'JJ'), ('dog', 'NN'), ('.', '.')]\n"
     ]
    }
   ],
   "source": [
    "# Step 2: POS Tagging\n",
    "pos_tags = nltk.pos_tag(tokens)\n",
    "print(\"\\nPOS Tags:\")\n",
    "print(pos_tags)"
   ]
  },
  {
   "cell_type": "code",
   "execution_count": 18,
   "id": "bf06ab65-ce6a-412b-a7b1-014cc65e23e7",
   "metadata": {},
   "outputs": [
    {
     "name": "stdout",
     "output_type": "stream",
     "text": [
      "\n",
      "Tokens after Stop Words Removal:\n",
      "['quick', 'brown', 'fox', 'jumps', 'lazy', 'dog', '.']\n"
     ]
    }
   ],
   "source": [
    "# Step 3: Stop Words Removal\n",
    "stop_words = set(stopwords.words('english'))\n",
    "filtered_tokens = [word for word in tokens if word.lower() not in stop_words]\n",
    "print(\"\\nTokens after Stop Words Removal:\")\n",
    "print(filtered_tokens)"
   ]
  },
  {
   "cell_type": "code",
   "execution_count": 19,
   "id": "77f600b0-052b-4566-88ef-9866c536126b",
   "metadata": {},
   "outputs": [
    {
     "name": "stdout",
     "output_type": "stream",
     "text": [
      "\n",
      "Tokens after Stemming:\n",
      "['quick', 'brown', 'fox', 'jump', 'lazi', 'dog', '.']\n"
     ]
    }
   ],
   "source": [
    "# Step 4: Stemming\n",
    "stemmer = PorterStemmer()\n",
    "stemmed_tokens = [stemmer.stem(word) for word in filtered_tokens]\n",
    "print(\"\\nTokens after Stemming:\")\n",
    "print(stemmed_tokens)"
   ]
  },
  {
   "cell_type": "code",
   "execution_count": 20,
   "id": "7bbab92c-ea87-4a08-8597-e5ef45a9212a",
   "metadata": {},
   "outputs": [
    {
     "name": "stdout",
     "output_type": "stream",
     "text": [
      "\n",
      "Tokens after Lemmatization:\n",
      "['quick', 'brown', 'fox', 'jump', 'lazy', 'dog', '.']\n"
     ]
    }
   ],
   "source": [
    "# Step 5: Lemmatization\n",
    "lemmatizer = WordNetLemmatizer()\n",
    "lemmatized_tokens = [lemmatizer.lemmatize(word) for word in filtered_tokens]\n",
    "print(\"\\nTokens after Lemmatization:\")\n",
    "print(lemmatized_tokens)\n"
   ]
  },
  {
   "cell_type": "code",
   "execution_count": 24,
   "id": "92384dea-aef1-4449-891a-68b6390de9c1",
   "metadata": {},
   "outputs": [
    {
     "name": "stdout",
     "output_type": "stream",
     "text": [
      "\n",
      "Term Frequency (TF) Matrix:\n",
      "['brown' 'dog' 'fox' 'jump' 'jumps' 'lazy' 'quick' 'quickly']\n",
      "[[1 1 1 0 1 1 1 0]\n",
      " [0 1 0 1 0 1 0 1]]\n",
      "\n",
      "Features/Words:\n",
      "['brown' 'dog' 'fox' 'jump' 'jumps' 'lazy' 'quick' 'quickly']\n",
      "\n",
      "TF-IDF Matrix (Proper Table):\n",
      "      brown       dog       fox      jump     jumps      lazy     quick  \\\n",
      "0  0.446656  0.317800  0.446656  0.000000  0.446656  0.317800  0.446656   \n",
      "1  0.000000  0.409937  0.000000  0.576152  0.000000  0.409937  0.000000   \n",
      "\n",
      "    quickly  \n",
      "0  0.000000  \n",
      "1  0.576152  \n"
     ]
    }
   ],
   "source": [
    "# -------------------------------\n",
    "# Step 6: Term Frequency and IDF\n",
    "# Using two small documents for better demonstration\n",
    "\n",
    "documents = [\n",
    "    \"The quick brown fox jumps over the lazy dog.\",\n",
    "    \"Never jump over the lazy dog quickly.\"\n",
    "]\n",
    "\n",
    "# Term Frequency (TF)\n",
    "vectorizer = CountVectorizer(stop_words='english')\n",
    "tf_matrix = vectorizer.fit_transform(documents)\n",
    "\n",
    "print(\"\\nTerm Frequency (TF) Matrix:\")\n",
    "print(vectorizer.get_feature_names_out())\n",
    "print(tf_matrix.toarray())\n",
    "\n",
    "# Inverse Document Frequency (IDF) / TF-IDF\n",
    "tfidf_vectorizer = TfidfVectorizer(stop_words='english')\n",
    "tfidf_matrix = tfidf_vectorizer.fit_transform(documents)\n",
    "\n",
    "# print(\"\\nTF-IDF Matrix:\")\n",
    "# print(tfidf_vectorizer.get_feature_names_out())\n",
    "# print(tfidf_matrix.toarray())\n",
    "\n",
    "# Print feature names\n",
    "print(\"\\nFeatures/Words:\")\n",
    "print(tfidf_vectorizer.get_feature_names_out())\n",
    "\n",
    "# Print TF-IDF matrix in a clean tabular way\n",
    "import pandas as pd\n",
    "\n",
    "df = pd.DataFrame(tfidf_matrix.toarray(), columns=tfidf_vectorizer.get_feature_names_out())\n",
    "print(\"\\nTF-IDF Matrix (Proper Table):\")\n",
    "print(df)\n"
   ]
  },
  {
   "cell_type": "code",
   "execution_count": null,
   "id": "3c4b6ee1-dd56-47a5-a786-bf4b749077d3",
   "metadata": {},
   "outputs": [],
   "source": [
    "# Step 1: Library Installation and Import\n",
    "# We use two main libraries:\n",
    "\n",
    "# NLTK (Natural Language Toolkit) — for text preprocessing like tokenization, stopword removal, stemming, lemmatization, etc.\n",
    "\n",
    "# Scikit-learn — for calculating Term Frequency (TF) and Inverse Document Frequency (IDF).\n",
    "\n",
    "# We install and import required modules like word_tokenize, stopwords, PorterStemmer, WordNetLemmatizer, CountVectorizer, and TfidfVectorizer.\n",
    "\n",
    "# Step 2: Downloading Necessary Resources\n",
    "# NLTK requires certain datasets (called corpora) for tokenization and other tasks.\n",
    "\n",
    "# We download:\n",
    "\n",
    "# 'punkt' — for tokenization.\n",
    "\n",
    "# 'averaged_perceptron_tagger' — for Part of Speech (POS) tagging.\n",
    "\n",
    "# 'stopwords' — list of common words like \"the\", \"is\", etc.\n",
    "\n",
    "# 'wordnet' — for lemmatization.\n",
    "\n",
    "# Step 3: Sample Document\n",
    "# We define a simple sample sentence:\n",
    "\n",
    "# text\n",
    "# Copy\n",
    "# Edit\n",
    "# \"The quick brown fox jumps over the lazy dog.\"\n",
    "# Step 4: Text Preprocessing\n",
    "# 4.1 Tokenization\n",
    "# Break the sentence into individual words (tokens).\n",
    "\n",
    "# Example output:\n",
    "\n",
    "# css\n",
    "# Copy\n",
    "# Edit\n",
    "# ['The', 'quick', 'brown', 'fox', 'jumps', 'over', 'the', 'lazy', 'dog', '.']\n",
    "# 4.2 POS Tagging\n",
    "# Assign Part of Speech (like noun, verb, adjective) to each token.\n",
    "\n",
    "# Example output:\n",
    "\n",
    "# css\n",
    "# Copy\n",
    "# Edit\n",
    "# [('The', 'DT'), ('quick', 'JJ'), ('brown', 'JJ'), ('fox', 'NN'), ...]\n",
    "# Good question! Here's the full form and meaning of those POS tags you asked about:\n",
    "\n",
    "\n",
    "# Tag\tFull Form\tMeaning\n",
    "# NN\tNoun, Singular\tNames of people, places, things (e.g., dog, fox)\n",
    "# JJ\tAdjective\tDescribes a noun (e.g., quick, lazy)\n",
    "# DT\tDeterminer\tWords that modify nouns (e.g., the, a, an)\n",
    "# VBZ\tVerb, 3rd person singular present\tAction word for he/she/it (e.g., jumps)\n",
    "# IN\tPreposition or subordinating conjunction\tLinks words (e.g., over, in, on)\n",
    "# 4.3 Stop Words Removal\n",
    "# Remove very common words that do not add much meaning (e.g., \"the\", \"is\", \"in\", \"on\").\n",
    "\n",
    "# We keep only meaningful words.\n",
    "\n",
    "# Example output:\n",
    "\n",
    "# css\n",
    "# Copy\n",
    "# Edit\n",
    "# ['quick', 'brown', 'fox', 'jumps', 'lazy', 'dog', '.']\n",
    "# 4.4 Stemming\n",
    "# Reduce words to their root form by chopping off prefixes/suffixes.\n",
    "\n",
    "# Example:\n",
    "\n",
    "# \"jumps\" → \"jump\"\n",
    "\n",
    "# \"lazy\" → \"lazi\"\n",
    "\n",
    "# Stemming does not always produce real English words but is useful for matching similar words.\n",
    "\n",
    "# 4.5 Lemmatization\n",
    "# Like stemming, but more intelligent.\n",
    "\n",
    "# Converts words to real dictionary base forms.\n",
    "\n",
    "# Example:\n",
    "\n",
    "# \"jumps\" → \"jump\"\n",
    "\n",
    "# \"dogs\" → \"dog\"\n",
    "\n",
    "# Step 5: Document Representation\n",
    "# 5.1 Term Frequency (TF)\n",
    "# How often a word appears in the document.\n",
    "\n",
    "# We use CountVectorizer to build a matrix where:\n",
    "\n",
    "# Each row = a document\n",
    "\n",
    "# Each column = a term (word)\n",
    "\n",
    "# Each cell = count of how many times the word appeared.\n",
    "\n",
    "# Example:\n",
    "\n",
    "\n",
    "# brown\tdog\tfox\tjump\tlazy\tquick\n",
    "# Doc1\t1\t1\t1\t1\t1\t1\n",
    "# Doc2\t0\t1\t0\t1\t1\t0\n",
    "# 5.2 TF-IDF (Term Frequency - Inverse Document Frequency)\n",
    "# TF-IDF gives more importance to rare words across documents.\n",
    "\n",
    "# Common words get lower weight, rare words get higher weight.\n",
    "\n",
    "# Helps highlight important terms in a collection of documents.\n",
    "\n",
    "# Example:\n",
    "\n",
    "# css\n",
    "# Copy\n",
    "# Edit\n",
    "# [['brown':0.47, 'dog':0.37, 'fox':0.47, ...], ...]\n",
    "# ✅ Final Output\n",
    "# At the end:\n",
    "\n",
    "# You have all the preprocessing steps applied to your sample text.\n",
    "\n",
    "# You also have a numerical representation (TF and TF-IDF) ready for machine learning or analysis.\n",
    "\n"
   ]
  }
 ],
 "metadata": {
  "kernelspec": {
   "display_name": "Python 3 (ipykernel)",
   "language": "python",
   "name": "python3"
  },
  "language_info": {
   "codemirror_mode": {
    "name": "ipython",
    "version": 3
   },
   "file_extension": ".py",
   "mimetype": "text/x-python",
   "name": "python",
   "nbconvert_exporter": "python",
   "pygments_lexer": "ipython3",
   "version": "3.12.7"
  }
 },
 "nbformat": 4,
 "nbformat_minor": 5
}
